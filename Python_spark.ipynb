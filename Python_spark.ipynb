{
  "nbformat": 4,
  "nbformat_minor": 0,
  "metadata": {
    "colab": {
      "name": "Python spark.ipynb",
      "version": "0.3.2",
      "provenance": [],
      "collapsed_sections": []
    },
    "language_info": {
      "mimetype": "text/x-python",
      "nbconvert_exporter": "python",
      "version": "3.5.5",
      "name": "python",
      "file_extension": ".py",
      "pygments_lexer": "ipython3",
      "codemirror_mode": {
        "version": 3,
        "name": "ipython"
      }
    },
    "kernelspec": {
      "display_name": "Python 3.5",
      "name": "python3",
      "language": "python"
    }
  },
  "cells": [
    {
      "cell_type": "markdown",
      "metadata": {
        "id": "98_mcZOMPoI4",
        "colab_type": "text"
      },
      "source": [
        "# SIT742: Modern Data Science \n",
        "**(Assessment Task 02: Bank Marketing Data Analytics)**\n",
        "\n",
        "---\n",
        "- Materials in this module include resources collected from various open-source online repositories.\n",
        "- You are free to use, change and distribute this package.\n",
        "\n",
        "Prepared by **SIT742 Teaching Team**\n",
        "\n",
        "\n",
        "---\n",
        "\n",
        "**Project Group Information:**\n",
        "\n",
        "- Names: Stephen Antony samy  \n",
        "- Student IDs:\n",
        "- Emails: santonys@deakin.edu.au \n",
        "---"
      ]
    },
    {
      "cell_type": "markdown",
      "metadata": {
        "colab_type": "text",
        "id": "eASNvREtBU9G"
      },
      "source": [
        "## 1. Import Spark"
      ]
    },
    {
      "cell_type": "code",
      "metadata": {
        "colab_type": "code",
        "id": "duCJfMrnGu00",
        "cellView": "code",
        "colab": {}
      },
      "source": [
        "!apt-get install openjdk-8-jdk-headless -qq > /dev/null\n",
        "!wget -q http://www-us.apache.org/dist/spark/spark-2.4.3/spark-2.4.3-bin-hadoop2.7.tgz\n",
        "!tar xf spark-2.4.3-bin-hadoop2.7.tgz\n",
        "!pip install -q findspark\n",
        "\n",
        "import os\n",
        "os.environ[\"JAVA_HOME\"] = \"/usr/lib/jvm/java-8-openjdk-amd64\"\n",
        "os.environ[\"SPARK_HOME\"] = \"/content/spark-2.4.3-bin-hadoop2.7\""
      ],
      "execution_count": 0,
      "outputs": []
    },
    {
      "cell_type": "code",
      "metadata": {
        "colab_type": "code",
        "id": "aGOo805LA-fM",
        "colab": {}
      },
      "source": [
        "import findspark\n",
        "findspark.init()\n",
        "from pyspark.sql import SparkSession "
      ],
      "execution_count": 0,
      "outputs": []
    },
    {
      "cell_type": "markdown",
      "metadata": {
        "colab_type": "text",
        "id": "K7bEtO_fBZmE"
      },
      "source": [
        "## 2. Read and check data"
      ]
    },
    {
      "cell_type": "code",
      "metadata": {
        "id": "NOha6gkVPoJC",
        "colab_type": "code",
        "outputId": "39ab919c-796d-4031-a2e9-ba182f8ea02a",
        "colab": {
          "base_uri": "https://localhost:8080/",
          "height": 35
        }
      },
      "source": [
        "!pip install wget  "
      ],
      "execution_count": 0,
      "outputs": [
        {
          "output_type": "stream",
          "text": [
            "Requirement already satisfied: wget in /usr/local/lib/python3.6/dist-packages (3.2)\n"
          ],
          "name": "stdout"
        }
      ]
    },
    {
      "cell_type": "code",
      "metadata": {
        "id": "-j6-wlxJPoJE",
        "colab_type": "code",
        "colab": {}
      },
      "source": [
        "import wget\n",
        "\n",
        "link_to_data = 'https://github.com/tulip-lab/sit742/raw/master/Assessment/2019/data/bank.csv'\n",
        "DataSet = wget.download(link_to_data)\n"
      ],
      "execution_count": 0,
      "outputs": []
    },
    {
      "cell_type": "code",
      "metadata": {
        "id": "4Wht8M4XPoJH",
        "colab_type": "code",
        "outputId": "523fd07b-24ef-4a90-e50f-d926fc70eff4",
        "colab": {
          "base_uri": "https://localhost:8080/",
          "height": 52
        }
      },
      "source": [
        "!ls"
      ],
      "execution_count": 0,
      "outputs": [
        {
          "output_type": "stream",
          "text": [
            "'bank (1).csv'\t sample_data\t\t     spark-2.4.3-bin-hadoop2.7.tgz\n",
            " bank.csv\t spark-2.4.3-bin-hadoop2.7   spark-2.4.3-bin-hadoop2.7.tgz.1\n"
          ],
          "name": "stdout"
        }
      ]
    },
    {
      "cell_type": "code",
      "metadata": {
        "colab_type": "code",
        "id": "FQ8Ts9eZBA-M",
        "outputId": "4f3b3257-710a-4d6e-ca8f-3381393d8594",
        "colab": {
          "base_uri": "https://localhost:8080/",
          "height": 468
        }
      },
      "source": [
        "spark = SparkSession.builder.appName('ml-bank').getOrCreate()\n",
        "\n",
        "# Read and import the data \" bank.csv\" and store in the data frame \"df\"\n",
        "df = spark.read.format(\"csv\").option(\"header\",\"true\").load(\"bank.csv\", inferSchema=True)\n",
        "df.show()"
      ],
      "execution_count": 0,
      "outputs": [
        {
          "output_type": "stream",
          "text": [
            "+---+-----------+--------+---------+-------+-------+-------+----+-------+---+-----+--------+--------+-----+--------+--------+-------+\n",
            "|age|        job| marital|education|default|balance|housing|loan|contact|day|month|duration|campaign|pdays|previous|poutcome|deposit|\n",
            "+---+-----------+--------+---------+-------+-------+-------+----+-------+---+-----+--------+--------+-----+--------+--------+-------+\n",
            "| 59|     admin.| married|secondary|     no|   2343|    yes|  no|unknown|  5|  may|    1042|       1|   -1|       0| unknown|    yes|\n",
            "| 56|     admin.| married|secondary|     no|     45|     no|  no|unknown|  5|  may|    1467|       1|   -1|       0| unknown|    yes|\n",
            "| 41| technician| married|secondary|     no|   1270|    yes|  no|unknown|  5|  may|    1389|       1|   -1|       0| unknown|    yes|\n",
            "| 55|   services| married|secondary|     no|   2476|    yes|  no|unknown|  5|  may|     579|       1|   -1|       0| unknown|    yes|\n",
            "| 54|     admin.| married| tertiary|     no|    184|     no|  no|unknown|  5|  may|     673|       2|   -1|       0| unknown|    yes|\n",
            "| 42| management|  single| tertiary|     no|      0|    yes| yes|unknown|  5|  may|     562|       2|   -1|       0| unknown|    yes|\n",
            "| 56| management| married| tertiary|     no|    830|    yes| yes|unknown|  6|  may|    1201|       1|   -1|       0| unknown|    yes|\n",
            "| 60|    retired|divorced|secondary|     no|    545|    yes|  no|unknown|  6|  may|    1030|       1|   -1|       0| unknown|    yes|\n",
            "| 37| technician| married|secondary|     no|      1|    yes|  no|unknown|  6|  may|     608|       1|   -1|       0| unknown|    yes|\n",
            "| 28|   services|  single|secondary|     no|   5090|    yes|  no|unknown|  6|  may|    1297|       3|   -1|       0| unknown|    yes|\n",
            "| 38|     admin.|  single|secondary|     no|    100|    yes|  no|unknown|  7|  may|     786|       1|   -1|       0| unknown|    yes|\n",
            "| 30|blue-collar| married|secondary|     no|    309|    yes|  no|unknown|  7|  may|    1574|       2|   -1|       0| unknown|    yes|\n",
            "| 29| management| married| tertiary|     no|    199|    yes| yes|unknown|  7|  may|    1689|       4|   -1|       0| unknown|    yes|\n",
            "| 46|blue-collar|  single| tertiary|     no|    460|    yes|  no|unknown|  7|  may|    1102|       2|   -1|       0| unknown|    yes|\n",
            "| 31| technician|  single| tertiary|     no|    703|    yes|  no|unknown|  8|  may|     943|       2|   -1|       0| unknown|    yes|\n",
            "| 35| management|divorced| tertiary|     no|   3837|    yes|  no|unknown|  8|  may|    1084|       1|   -1|       0| unknown|    yes|\n",
            "| 32|blue-collar|  single|  primary|     no|    611|    yes|  no|unknown|  8|  may|     541|       3|   -1|       0| unknown|    yes|\n",
            "| 49|   services| married|secondary|     no|     -8|    yes|  no|unknown|  8|  may|    1119|       1|   -1|       0| unknown|    yes|\n",
            "| 41|     admin.| married|secondary|     no|     55|    yes|  no|unknown|  8|  may|    1120|       2|   -1|       0| unknown|    yes|\n",
            "| 49|     admin.|divorced|secondary|     no|    168|    yes| yes|unknown|  8|  may|     513|       1|   -1|       0| unknown|    yes|\n",
            "+---+-----------+--------+---------+-------+-------+-------+----+-------+---+-----+--------+--------+-----+--------+--------+-------+\n",
            "only showing top 20 rows\n",
            "\n"
          ],
          "name": "stdout"
        }
      ]
    },
    {
      "cell_type": "code",
      "metadata": {
        "colab_type": "code",
        "id": "XJGWVc0yB0UA",
        "outputId": "d39050f5-59f0-4331-e8fb-99741eca0a29",
        "colab": {
          "base_uri": "https://localhost:8080/",
          "height": 623
        }
      },
      "source": [
        "# check data distribution\n",
        "# you may use printSchema() \n",
        "df.printSchema() \n",
        "\n",
        "import pandas as pd\n",
        "pd.DataFrame(df.take(5), columns=df.columns).transpose()\n",
        "\n",
        "numeric_features = [t[0] for t in df.dtypes if t[1] == 'int']\n",
        "df.select(numeric_features).describe().toPandas().transpose()"
      ],
      "execution_count": 0,
      "outputs": [
        {
          "output_type": "stream",
          "text": [
            "root\n",
            " |-- age: integer (nullable = true)\n",
            " |-- job: string (nullable = true)\n",
            " |-- marital: string (nullable = true)\n",
            " |-- education: string (nullable = true)\n",
            " |-- default: string (nullable = true)\n",
            " |-- balance: integer (nullable = true)\n",
            " |-- housing: string (nullable = true)\n",
            " |-- loan: string (nullable = true)\n",
            " |-- contact: string (nullable = true)\n",
            " |-- day: integer (nullable = true)\n",
            " |-- month: string (nullable = true)\n",
            " |-- duration: integer (nullable = true)\n",
            " |-- campaign: integer (nullable = true)\n",
            " |-- pdays: integer (nullable = true)\n",
            " |-- previous: integer (nullable = true)\n",
            " |-- poutcome: string (nullable = true)\n",
            " |-- deposit: string (nullable = true)\n",
            "\n"
          ],
          "name": "stdout"
        },
        {
          "output_type": "execute_result",
          "data": {
            "text/html": [
              "<div>\n",
              "<style scoped>\n",
              "    .dataframe tbody tr th:only-of-type {\n",
              "        vertical-align: middle;\n",
              "    }\n",
              "\n",
              "    .dataframe tbody tr th {\n",
              "        vertical-align: top;\n",
              "    }\n",
              "\n",
              "    .dataframe thead th {\n",
              "        text-align: right;\n",
              "    }\n",
              "</style>\n",
              "<table border=\"1\" class=\"dataframe\">\n",
              "  <thead>\n",
              "    <tr style=\"text-align: right;\">\n",
              "      <th></th>\n",
              "      <th>0</th>\n",
              "      <th>1</th>\n",
              "      <th>2</th>\n",
              "      <th>3</th>\n",
              "      <th>4</th>\n",
              "    </tr>\n",
              "  </thead>\n",
              "  <tbody>\n",
              "    <tr>\n",
              "      <th>summary</th>\n",
              "      <td>count</td>\n",
              "      <td>mean</td>\n",
              "      <td>stddev</td>\n",
              "      <td>min</td>\n",
              "      <td>max</td>\n",
              "    </tr>\n",
              "    <tr>\n",
              "      <th>age</th>\n",
              "      <td>11162</td>\n",
              "      <td>41.231947679627304</td>\n",
              "      <td>11.913369192215518</td>\n",
              "      <td>18</td>\n",
              "      <td>95</td>\n",
              "    </tr>\n",
              "    <tr>\n",
              "      <th>balance</th>\n",
              "      <td>11162</td>\n",
              "      <td>1528.5385235620856</td>\n",
              "      <td>3225.413325946149</td>\n",
              "      <td>-6847</td>\n",
              "      <td>81204</td>\n",
              "    </tr>\n",
              "    <tr>\n",
              "      <th>day</th>\n",
              "      <td>11162</td>\n",
              "      <td>15.658036194230425</td>\n",
              "      <td>8.420739541006462</td>\n",
              "      <td>1</td>\n",
              "      <td>31</td>\n",
              "    </tr>\n",
              "    <tr>\n",
              "      <th>duration</th>\n",
              "      <td>11162</td>\n",
              "      <td>371.99381831213043</td>\n",
              "      <td>347.12838571630687</td>\n",
              "      <td>2</td>\n",
              "      <td>3881</td>\n",
              "    </tr>\n",
              "    <tr>\n",
              "      <th>campaign</th>\n",
              "      <td>11162</td>\n",
              "      <td>2.508421429851281</td>\n",
              "      <td>2.7220771816614824</td>\n",
              "      <td>1</td>\n",
              "      <td>63</td>\n",
              "    </tr>\n",
              "    <tr>\n",
              "      <th>pdays</th>\n",
              "      <td>11162</td>\n",
              "      <td>51.33040673714388</td>\n",
              "      <td>108.75828197197717</td>\n",
              "      <td>-1</td>\n",
              "      <td>854</td>\n",
              "    </tr>\n",
              "    <tr>\n",
              "      <th>previous</th>\n",
              "      <td>11162</td>\n",
              "      <td>0.8325568894463358</td>\n",
              "      <td>2.292007218670508</td>\n",
              "      <td>0</td>\n",
              "      <td>58</td>\n",
              "    </tr>\n",
              "  </tbody>\n",
              "</table>\n",
              "</div>"
            ],
            "text/plain": [
              "              0                   1                   2      3      4\n",
              "summary   count                mean              stddev    min    max\n",
              "age       11162  41.231947679627304  11.913369192215518     18     95\n",
              "balance   11162  1528.5385235620856   3225.413325946149  -6847  81204\n",
              "day       11162  15.658036194230425   8.420739541006462      1     31\n",
              "duration  11162  371.99381831213043  347.12838571630687      2   3881\n",
              "campaign  11162   2.508421429851281  2.7220771816614824      1     63\n",
              "pdays     11162   51.33040673714388  108.75828197197717     -1    854\n",
              "previous  11162  0.8325568894463358   2.292007218670508      0     58"
            ]
          },
          "metadata": {
            "tags": []
          },
          "execution_count": 7
        }
      ]
    },
    {
      "cell_type": "markdown",
      "metadata": {
        "colab_type": "text",
        "id": "wKQMhrtFChHa"
      },
      "source": [
        "## 3. Select features"
      ]
    },
    {
      "cell_type": "code",
      "metadata": {
        "colab_type": "code",
        "id": "VU5xMqN_RyM2",
        "outputId": "ae56b8ce-4483-4dd6-a355-894290206ea0",
        "colab": {
          "base_uri": "https://localhost:8080/",
          "height": 468
        }
      },
      "source": [
        "# select features ('age', 'job', 'marital', 'education', 'default', 'balance', 'housing', 'loan', 'campaign', 'pdays', 'previous', 'poutcome', 'deposit') as df2\n",
        "df2 = df.select('age', 'job', 'marital',\n",
        "'education', 'default', 'balance', 'housing', 'loan', 'campaign', 'pdays',\n",
        "'previous', 'poutcome','deposit')\n",
        "cols = df2.columns\n",
        "df2.show()"
      ],
      "execution_count": 0,
      "outputs": [
        {
          "output_type": "stream",
          "text": [
            "+---+-----------+--------+---------+-------+-------+-------+----+--------+-----+--------+--------+-------+\n",
            "|age|        job| marital|education|default|balance|housing|loan|campaign|pdays|previous|poutcome|deposit|\n",
            "+---+-----------+--------+---------+-------+-------+-------+----+--------+-----+--------+--------+-------+\n",
            "| 59|     admin.| married|secondary|     no|   2343|    yes|  no|       1|   -1|       0| unknown|    yes|\n",
            "| 56|     admin.| married|secondary|     no|     45|     no|  no|       1|   -1|       0| unknown|    yes|\n",
            "| 41| technician| married|secondary|     no|   1270|    yes|  no|       1|   -1|       0| unknown|    yes|\n",
            "| 55|   services| married|secondary|     no|   2476|    yes|  no|       1|   -1|       0| unknown|    yes|\n",
            "| 54|     admin.| married| tertiary|     no|    184|     no|  no|       2|   -1|       0| unknown|    yes|\n",
            "| 42| management|  single| tertiary|     no|      0|    yes| yes|       2|   -1|       0| unknown|    yes|\n",
            "| 56| management| married| tertiary|     no|    830|    yes| yes|       1|   -1|       0| unknown|    yes|\n",
            "| 60|    retired|divorced|secondary|     no|    545|    yes|  no|       1|   -1|       0| unknown|    yes|\n",
            "| 37| technician| married|secondary|     no|      1|    yes|  no|       1|   -1|       0| unknown|    yes|\n",
            "| 28|   services|  single|secondary|     no|   5090|    yes|  no|       3|   -1|       0| unknown|    yes|\n",
            "| 38|     admin.|  single|secondary|     no|    100|    yes|  no|       1|   -1|       0| unknown|    yes|\n",
            "| 30|blue-collar| married|secondary|     no|    309|    yes|  no|       2|   -1|       0| unknown|    yes|\n",
            "| 29| management| married| tertiary|     no|    199|    yes| yes|       4|   -1|       0| unknown|    yes|\n",
            "| 46|blue-collar|  single| tertiary|     no|    460|    yes|  no|       2|   -1|       0| unknown|    yes|\n",
            "| 31| technician|  single| tertiary|     no|    703|    yes|  no|       2|   -1|       0| unknown|    yes|\n",
            "| 35| management|divorced| tertiary|     no|   3837|    yes|  no|       1|   -1|       0| unknown|    yes|\n",
            "| 32|blue-collar|  single|  primary|     no|    611|    yes|  no|       3|   -1|       0| unknown|    yes|\n",
            "| 49|   services| married|secondary|     no|     -8|    yes|  no|       1|   -1|       0| unknown|    yes|\n",
            "| 41|     admin.| married|secondary|     no|     55|    yes|  no|       2|   -1|       0| unknown|    yes|\n",
            "| 49|     admin.|divorced|secondary|     no|    168|    yes| yes|       1|   -1|       0| unknown|    yes|\n",
            "+---+-----------+--------+---------+-------+-------+-------+----+--------+-----+--------+--------+-------+\n",
            "only showing top 20 rows\n",
            "\n"
          ],
          "name": "stdout"
        }
      ]
    },
    {
      "cell_type": "code",
      "metadata": {
        "colab_type": "code",
        "id": "vwF5sqRYa_eI",
        "outputId": "66ec286f-aa34-4c00-f26b-9222fc54d3da",
        "colab": {
          "base_uri": "https://localhost:8080/",
          "height": 728
        }
      },
      "source": [
        "# remove invalid rows/records using spark.sql \n",
        "from pyspark.sql.types import IntegerType\n",
        "\n",
        "df2.createOrReplaceTempView(\"df2\")\n",
        "\n",
        "resu1 = spark.sql(\"SELECT * FROM df2 where age not in ('unknown') AND job not in ('unknown') AND marital not in ('unknown') AND education not in ('unknown') AND default not in ('unknown') AND balance not in ('unknown') AND housing not in ('unknown') AND loan not in ('unknown') AND campaign not in ('unknown') AND pdays not in ('unknown') AND previous not in ('unknown') AND poutcome not in ('unknown','other') AND deposit not in ('unknown')\")\n",
        "resu1.show()\n",
        "\n",
        "#results.write.csv('mycsv4.csv',header='true')\n",
        "integer_typ1 = ['age', 'balance', 'campaign', 'pdays','previous']\n",
        "    \n",
        "resu1.printSchema() "
      ],
      "execution_count": 0,
      "outputs": [
        {
          "output_type": "stream",
          "text": [
            "+---+------------+--------+---------+-------+-------+-------+----+--------+-----+--------+--------+-------+\n",
            "|age|         job| marital|education|default|balance|housing|loan|campaign|pdays|previous|poutcome|deposit|\n",
            "+---+------------+--------+---------+-------+-------+-------+----+--------+-----+--------+--------+-------+\n",
            "| 33|    services| married|secondary|     no|   3444|    yes|  no|       1|   91|       4| failure|    yes|\n",
            "| 56|  technician| married|secondary|     no|    589|    yes|  no|       1|  147|       2| success|    yes|\n",
            "| 34|      admin.| married| tertiary|     no|    899|    yes|  no|       1|  170|       3| failure|    yes|\n",
            "| 53|     retired| married| tertiary|     no|   2269|     no|  no|       2|  150|       1| success|    yes|\n",
            "| 37|  technician| married|secondary|     no|   5115|    yes|  no|       2|  171|       4| failure|    yes|\n",
            "| 45|entrepreneur| married|secondary|     no|    781|     no| yes|       2|  126|       2| failure|    yes|\n",
            "| 46|  unemployed|divorced|secondary|     no|   3354|    yes|  no|       1|  174|       1| success|    yes|\n",
            "| 40|  management| married| tertiary|     no|   3352|    yes|  no|       2|   27|       1| success|    yes|\n",
            "| 32|  technician| married| tertiary|     no|   4654|    yes| yes|       1|  128|       2| failure|    yes|\n",
            "| 30| blue-collar| married|secondary|     no|    501|    yes| yes|       1|  177|       1| failure|    yes|\n",
            "| 46|  technician| married| tertiary|     no|      0|     no|  no|       1|  167|       1| failure|    yes|\n",
            "| 38|entrepreneur| married| tertiary|     no|   1110|    yes|  no|       2|  183|       2| failure|    yes|\n",
            "| 32|    services| married|secondary|     no|    983|    yes|  no|       2|  133|       1| failure|    yes|\n",
            "| 31|  unemployed| married|secondary|     no|    314|    yes|  no|       3|  178|       7| failure|    yes|\n",
            "| 50| blue-collar| married|  primary|     no|  12519|    yes|  no|       3|   34|       1| failure|    yes|\n",
            "| 47|  technician| married|secondary|     no|      0|     no|  no|       1|   10|       1| failure|    yes|\n",
            "| 59|  management| married| tertiary|     no|   7049|     no|  no|       1|  163|       2| failure|    yes|\n",
            "| 31|  management| married|secondary|     no|   8629|    yes|  no|       1|  184|       2| failure|    yes|\n",
            "| 53| blue-collar| married|secondary|     no|   1777|    yes|  no|       5|  154|       1| failure|    yes|\n",
            "| 40|  technician|  single| tertiary|     no|   1646|    yes|  no|       1|  242|       2| failure|    yes|\n",
            "+---+------------+--------+---------+-------+-------+-------+----+--------+-----+--------+--------+-------+\n",
            "only showing top 20 rows\n",
            "\n",
            "root\n",
            " |-- age: integer (nullable = true)\n",
            " |-- job: string (nullable = true)\n",
            " |-- marital: string (nullable = true)\n",
            " |-- education: string (nullable = true)\n",
            " |-- default: string (nullable = true)\n",
            " |-- balance: integer (nullable = true)\n",
            " |-- housing: string (nullable = true)\n",
            " |-- loan: string (nullable = true)\n",
            " |-- campaign: integer (nullable = true)\n",
            " |-- pdays: integer (nullable = true)\n",
            " |-- previous: integer (nullable = true)\n",
            " |-- poutcome: string (nullable = true)\n",
            " |-- deposit: string (nullable = true)\n",
            "\n"
          ],
          "name": "stdout"
        }
      ]
    },
    {
      "cell_type": "code",
      "metadata": {
        "colab_type": "code",
        "id": "A_T8qvxzR-oI",
        "outputId": "efcecb50-08e9-4702-e669-63889eaaee12",
        "colab": {
          "base_uri": "https://localhost:8080/",
          "height": 468
        }
      },
      "source": [
        "# convert categorical features to numeric features  using One hot encoding, \n",
        "from pyspark.ml.feature import OneHotEncoderEstimator, StringIndexer, VectorAssembler\n",
        "from pyspark.ml import Pipeline\n",
        "\n",
        "categorical_Colum1 = ['job', 'marital', 'education', 'default', 'housing', 'loan', 'poutcome']\n",
        "stages = []\n",
        "\n",
        "for categorical_Col1 in categorical_Colum1:\n",
        "    stringIndexer = StringIndexer(inputCol = categorical_Col1, outputCol = categorical_Col1 + 'Index')\n",
        "    encoder = OneHotEncoderEstimator(inputCols=[stringIndexer.getOutputCol()], outputCols=[categorical_Col1 + \"classVec\"])\n",
        "    stages += [stringIndexer, encoder]\n",
        "    \n",
        "label_stringIdx = StringIndexer(inputCol = 'deposit', outputCol = 'label')\n",
        "stages += [label_stringIdx]\n",
        "numericCols = ['age', 'balance', 'campaign', 'pdays', 'previous']\n",
        "assemblerInputs = [c + \"classVec\" for c in categorical_Colum1] + numericCols\n",
        "assembler = VectorAssembler(inputCols=assemblerInputs, outputCol=\"features1\")\n",
        "stages += [assembler]\n",
        "\n",
        "pipeline = Pipeline(stages = stages)\n",
        "pipelineModel = pipeline.fit(results)\n",
        "df3 = pipelineModel.transform(results)\n",
        "selectedCols = ['label', 'features1'] + cols\n",
        "df4 = df3.select(selectedCols)\n",
        "df4.show()"
      ],
      "execution_count": 0,
      "outputs": [
        {
          "output_type": "stream",
          "text": [
            "+-----+--------------------+---+------------+--------+---------+-------+-------+-------+----+--------+-----+--------+--------+-------+\n",
            "|label|           features1|age|         job| marital|education|default|balance|housing|loan|campaign|pdays|previous|poutcome|deposit|\n",
            "+-----+--------------------+---+------------+--------+---------+-------+-------+-------+----+--------+-----+--------+--------+-------+\n",
            "|  0.0|(23,[5,10,12,14,1...| 33|    services| married|secondary|     no|   3444|    yes|  no|       1|   91|       4| failure|    yes|\n",
            "|  0.0|(23,[1,10,12,14,1...| 56|  technician| married|secondary|     no|    589|    yes|  no|       1|  147|       2| success|    yes|\n",
            "|  0.0|(23,[2,10,13,14,1...| 34|      admin.| married| tertiary|     no|    899|    yes|  no|       1|  170|       3| failure|    yes|\n",
            "|  0.0|(23,[4,10,13,14,1...| 53|     retired| married| tertiary|     no|   2269|     no|  no|       2|  150|       1| success|    yes|\n",
            "|  0.0|(23,[1,10,12,14,1...| 37|  technician| married|secondary|     no|   5115|    yes|  no|       2|  171|       4| failure|    yes|\n",
            "|  0.0|(23,[9,10,12,14,1...| 45|entrepreneur| married|secondary|     no|    781|     no| yes|       2|  126|       2| failure|    yes|\n",
            "|  0.0|(23,[7,12,14,16,1...| 46|  unemployed|divorced|secondary|     no|   3354|    yes|  no|       1|  174|       1| success|    yes|\n",
            "|  0.0|(23,[0,10,13,14,1...| 40|  management| married| tertiary|     no|   3352|    yes|  no|       2|   27|       1| success|    yes|\n",
            "|  0.0|(23,[1,10,13,14,1...| 32|  technician| married| tertiary|     no|   4654|    yes| yes|       1|  128|       2| failure|    yes|\n",
            "|  0.0|(23,[3,10,12,14,1...| 30| blue-collar| married|secondary|     no|    501|    yes| yes|       1|  177|       1| failure|    yes|\n",
            "|  0.0|(23,[1,10,13,14,1...| 46|  technician| married| tertiary|     no|      0|     no|  no|       1|  167|       1| failure|    yes|\n",
            "|  0.0|(23,[9,10,13,14,1...| 38|entrepreneur| married| tertiary|     no|   1110|    yes|  no|       2|  183|       2| failure|    yes|\n",
            "|  0.0|(23,[5,10,12,14,1...| 32|    services| married|secondary|     no|    983|    yes|  no|       2|  133|       1| failure|    yes|\n",
            "|  0.0|(23,[7,10,12,14,1...| 31|  unemployed| married|secondary|     no|    314|    yes|  no|       3|  178|       7| failure|    yes|\n",
            "|  0.0|(23,[3,10,14,16,1...| 50| blue-collar| married|  primary|     no|  12519|    yes|  no|       3|   34|       1| failure|    yes|\n",
            "|  0.0|(23,[1,10,12,14,1...| 47|  technician| married|secondary|     no|      0|     no|  no|       1|   10|       1| failure|    yes|\n",
            "|  0.0|(23,[0,10,13,14,1...| 59|  management| married| tertiary|     no|   7049|     no|  no|       1|  163|       2| failure|    yes|\n",
            "|  0.0|(23,[0,10,12,14,1...| 31|  management| married|secondary|     no|   8629|    yes|  no|       1|  184|       2| failure|    yes|\n",
            "|  0.0|(23,[3,10,12,14,1...| 53| blue-collar| married|secondary|     no|   1777|    yes|  no|       5|  154|       1| failure|    yes|\n",
            "|  0.0|(23,[1,11,13,14,1...| 40|  technician|  single| tertiary|     no|   1646|    yes|  no|       1|  242|       2| failure|    yes|\n",
            "+-----+--------------------+---+------------+--------+---------+-------+-------+-------+----+--------+-----+--------+--------+-------+\n",
            "only showing top 20 rows\n",
            "\n"
          ],
          "name": "stdout"
        }
      ]
    },
    {
      "cell_type": "markdown",
      "metadata": {
        "colab_type": "text",
        "id": "pOqHERYJCQuC"
      },
      "source": [
        "### 3.1 normalisation"
      ]
    },
    {
      "cell_type": "code",
      "metadata": {
        "colab_type": "code",
        "id": "cfL6_sca5VwI",
        "outputId": "bb47d481-f104-4e0f-946e-3a2ccd622345",
        "colab": {
          "base_uri": "https://localhost:8080/",
          "height": 468
        }
      },
      "source": [
        "# then apply Min-Max normalisation on each attribute using MinMaxScaler  \n",
        "\n",
        "from pyspark.ml.feature import MinMaxScaler\n",
        "from pyspark.ml.feature import VectorAssembler\n",
        "  \n",
        "scaler_11 = MinMaxScaler(inputCol=\"features1\", outputCol=\"features\")\n",
        "\n",
        "#Generate the minmax scalar transformed variable\n",
        "scaler_Model11 = scaler_11.fit(df4)\n",
        "\n",
        "\n",
        "scaledData = scaler_Model11.transform(df4)\n",
        "\n",
        "scaledData.schema['features'].metadata=scaledData.schema['features1'].metadata\n",
        "scaledMeta = scaledData.schema['features1'].metadata\n",
        "\n",
        "colums = ['label', 'features'] + cols\n",
        "scaledData = scaledData.select(colums)\n",
        "scaledData.show()\n"
      ],
      "execution_count": 0,
      "outputs": [
        {
          "output_type": "stream",
          "text": [
            "+-----+--------------------+---+------------+--------+---------+-------+-------+-------+----+--------+-----+--------+--------+-------+\n",
            "|label|            features|age|         job| marital|education|default|balance|housing|loan|campaign|pdays|previous|poutcome|deposit|\n",
            "+-----+--------------------+---+------------+--------+---------+-------+-------+-------+----+--------+-----+--------+--------+-------+\n",
            "|  0.0|[0.0,0.0,0.0,0.0,...| 33|    services| married|secondary|     no|   3444|    yes|  no|       1|   91|       4| failure|    yes|\n",
            "|  0.0|[0.0,1.0,0.0,0.0,...| 56|  technician| married|secondary|     no|    589|    yes|  no|       1|  147|       2| success|    yes|\n",
            "|  0.0|[0.0,0.0,1.0,0.0,...| 34|      admin.| married| tertiary|     no|    899|    yes|  no|       1|  170|       3| failure|    yes|\n",
            "|  0.0|[0.0,0.0,0.0,0.0,...| 53|     retired| married| tertiary|     no|   2269|     no|  no|       2|  150|       1| success|    yes|\n",
            "|  0.0|[0.0,1.0,0.0,0.0,...| 37|  technician| married|secondary|     no|   5115|    yes|  no|       2|  171|       4| failure|    yes|\n",
            "|  0.0|[0.0,0.0,0.0,0.0,...| 45|entrepreneur| married|secondary|     no|    781|     no| yes|       2|  126|       2| failure|    yes|\n",
            "|  0.0|[0.0,0.0,0.0,0.0,...| 46|  unemployed|divorced|secondary|     no|   3354|    yes|  no|       1|  174|       1| success|    yes|\n",
            "|  0.0|[1.0,0.0,0.0,0.0,...| 40|  management| married| tertiary|     no|   3352|    yes|  no|       2|   27|       1| success|    yes|\n",
            "|  0.0|[0.0,1.0,0.0,0.0,...| 32|  technician| married| tertiary|     no|   4654|    yes| yes|       1|  128|       2| failure|    yes|\n",
            "|  0.0|[0.0,0.0,0.0,1.0,...| 30| blue-collar| married|secondary|     no|    501|    yes| yes|       1|  177|       1| failure|    yes|\n",
            "|  0.0|[0.0,1.0,0.0,0.0,...| 46|  technician| married| tertiary|     no|      0|     no|  no|       1|  167|       1| failure|    yes|\n",
            "|  0.0|[0.0,0.0,0.0,0.0,...| 38|entrepreneur| married| tertiary|     no|   1110|    yes|  no|       2|  183|       2| failure|    yes|\n",
            "|  0.0|[0.0,0.0,0.0,0.0,...| 32|    services| married|secondary|     no|    983|    yes|  no|       2|  133|       1| failure|    yes|\n",
            "|  0.0|[0.0,0.0,0.0,0.0,...| 31|  unemployed| married|secondary|     no|    314|    yes|  no|       3|  178|       7| failure|    yes|\n",
            "|  0.0|[0.0,0.0,0.0,1.0,...| 50| blue-collar| married|  primary|     no|  12519|    yes|  no|       3|   34|       1| failure|    yes|\n",
            "|  0.0|[0.0,1.0,0.0,0.0,...| 47|  technician| married|secondary|     no|      0|     no|  no|       1|   10|       1| failure|    yes|\n",
            "|  0.0|[1.0,0.0,0.0,0.0,...| 59|  management| married| tertiary|     no|   7049|     no|  no|       1|  163|       2| failure|    yes|\n",
            "|  0.0|[1.0,0.0,0.0,0.0,...| 31|  management| married|secondary|     no|   8629|    yes|  no|       1|  184|       2| failure|    yes|\n",
            "|  0.0|[0.0,0.0,0.0,1.0,...| 53| blue-collar| married|secondary|     no|   1777|    yes|  no|       5|  154|       1| failure|    yes|\n",
            "|  0.0|[0.0,1.0,0.0,0.0,...| 40|  technician|  single| tertiary|     no|   1646|    yes|  no|       1|  242|       2| failure|    yes|\n",
            "+-----+--------------------+---+------------+--------+---------+-------+-------+-------+----+--------+-----+--------+--------+-------+\n",
            "only showing top 20 rows\n",
            "\n"
          ],
          "name": "stdout"
        }
      ]
    },
    {
      "cell_type": "markdown",
      "metadata": {
        "colab_type": "text",
        "id": "9trUY7ZgCzhW"
      },
      "source": [
        "## 4. Unsupervised learning"
      ]
    },
    {
      "cell_type": "markdown",
      "metadata": {
        "colab_type": "text",
        "id": "KTQfUch2Cmmi"
      },
      "source": [
        "### 4.1 K-means"
      ]
    },
    {
      "cell_type": "code",
      "metadata": {
        "colab_type": "code",
        "id": "dGGZI70Ohqgg",
        "outputId": "0e677ff1-4033-40e1-9b07-f3496b62c5fa",
        "colab": {
          "base_uri": "https://localhost:8080/",
          "height": 728
        }
      },
      "source": [
        "# Perform unsupervised learning on df2 with k-means \n",
        "# you can use whole df2 as both training and testing data, \n",
        "# evaluate the clustering result using Accuracy.  \n",
        "\n",
        "from pyspark.ml.clustering import KMeans\n",
        "from pyspark.ml.evaluation import ClusteringEvaluator\n",
        "from pyspark.ml.evaluation import MulticlassClassificationEvaluator\n",
        "from pyspark.ml.evaluation import BinaryClassificationEvaluator\n",
        "\n",
        "kmeans = KMeans(k=3, seed=1, maxIter=10)  \n",
        "model_11 = kmeans.fit(scaledData.select(\"features\"))\n",
        "\n",
        "transformed = model_11.transform(scaledData)\n",
        " \n",
        "\n",
        "output=transformed.select('age', 'job', 'marital','education', 'default', 'balance', 'housing', 'loan', 'campaign', 'pdays','previous', 'poutcome','deposit','prediction')\n",
        "output.show()\n",
        "\n",
        "#determine the silhouette score for calculating the euclidean distance\n",
        "evaluator = ClusteringEvaluator()\n",
        "silhouettevalues_11 = evaluator.evaluate(transformed)\n",
        "print(\"Silhouette with squared euclidean distance = \" + str(silhouettevalues_11))\n",
        "\n",
        "#determine the squared errors\n",
        "wssse_values = model_11.computeCost(transformed)\n",
        "print(\"Within Set Sum of Squared Errors = \" + str(wssse_values))\n",
        "\n",
        "#print the result by using the below functions\n",
        "center_11 = model_11.clusterCenters()\n",
        "print(\"Cluster Centers: \")\n",
        "for center in center_11:\n",
        "   print(center)"
      ],
      "execution_count": 0,
      "outputs": [
        {
          "output_type": "stream",
          "text": [
            "+---+------------+--------+---------+-------+-------+-------+----+--------+-----+--------+--------+-------+----------+\n",
            "|age|         job| marital|education|default|balance|housing|loan|campaign|pdays|previous|poutcome|deposit|prediction|\n",
            "+---+------------+--------+---------+-------+-------+-------+----+--------+-----+--------+--------+-------+----------+\n",
            "| 33|    services| married|secondary|     no|   3444|    yes|  no|       1|   91|       4| failure|    yes|         2|\n",
            "| 56|  technician| married|secondary|     no|    589|    yes|  no|       1|  147|       2| success|    yes|         2|\n",
            "| 34|      admin.| married| tertiary|     no|    899|    yes|  no|       1|  170|       3| failure|    yes|         1|\n",
            "| 53|     retired| married| tertiary|     no|   2269|     no|  no|       2|  150|       1| success|    yes|         1|\n",
            "| 37|  technician| married|secondary|     no|   5115|    yes|  no|       2|  171|       4| failure|    yes|         2|\n",
            "| 45|entrepreneur| married|secondary|     no|    781|     no| yes|       2|  126|       2| failure|    yes|         0|\n",
            "| 46|  unemployed|divorced|secondary|     no|   3354|    yes|  no|       1|  174|       1| success|    yes|         2|\n",
            "| 40|  management| married| tertiary|     no|   3352|    yes|  no|       2|   27|       1| success|    yes|         1|\n",
            "| 32|  technician| married| tertiary|     no|   4654|    yes| yes|       1|  128|       2| failure|    yes|         1|\n",
            "| 30| blue-collar| married|secondary|     no|    501|    yes| yes|       1|  177|       1| failure|    yes|         2|\n",
            "| 46|  technician| married| tertiary|     no|      0|     no|  no|       1|  167|       1| failure|    yes|         1|\n",
            "| 38|entrepreneur| married| tertiary|     no|   1110|    yes|  no|       2|  183|       2| failure|    yes|         1|\n",
            "| 32|    services| married|secondary|     no|    983|    yes|  no|       2|  133|       1| failure|    yes|         2|\n",
            "| 31|  unemployed| married|secondary|     no|    314|    yes|  no|       3|  178|       7| failure|    yes|         2|\n",
            "| 50| blue-collar| married|  primary|     no|  12519|    yes|  no|       3|   34|       1| failure|    yes|         2|\n",
            "| 47|  technician| married|secondary|     no|      0|     no|  no|       1|   10|       1| failure|    yes|         0|\n",
            "| 59|  management| married| tertiary|     no|   7049|     no|  no|       1|  163|       2| failure|    yes|         1|\n",
            "| 31|  management| married|secondary|     no|   8629|    yes|  no|       1|  184|       2| failure|    yes|         2|\n",
            "| 53| blue-collar| married|secondary|     no|   1777|    yes|  no|       5|  154|       1| failure|    yes|         2|\n",
            "| 40|  technician|  single| tertiary|     no|   1646|    yes|  no|       1|  242|       2| failure|    yes|         1|\n",
            "+---+------------+--------+---------+-------+-------+-------+----+--------+-----+--------+--------+-------+----------+\n",
            "only showing top 20 rows\n",
            "\n",
            "Silhouette with squared euclidean distance = 0.29209091230936907\n",
            "Within Set Sum of Squared Errors = 3820.799684740529\n",
            "Cluster Centers: \n",
            "[0.03081664 0.15100154 0.16486903 0.10785824 0.22496148 0.08320493\n",
            " 0.10323575 0.06625578 0.01232666 0.02311248 0.61633282 0.28813559\n",
            " 0.83050847 0.         0.99845917 0.99383667 0.93374422 0.37750385\n",
            " 0.41140216 0.03292468 0.06597563 0.20307733 0.0383496 ]\n",
            "[0.58134243 0.13424346 0.06143345 0.01365188 0.04891923 0.00796359\n",
            " 0.02844141 0.03299204 0.06143345 0.01706485 0.47895336 0.44482366\n",
            " 0.         0.98862344 0.99772469 0.62343572 0.92605233 0.48805461\n",
            " 0.31295303 0.03711905 0.07518875 0.21337927 0.03680529]\n",
            "[0.03675345 0.21133231 0.22817764 0.28943338 0.01071975 0.143951\n",
            " 0.00306279 0.0229709  0.01837672 0.01990812 0.63246554 0.25114855\n",
            " 0.84532925 0.         0.99387443 0.00612557 0.83920368 0.76875957\n",
            " 0.30752571 0.026321   0.08255604 0.30132368 0.0417163 ]\n"
          ],
          "name": "stdout"
        }
      ]
    },
    {
      "cell_type": "markdown",
      "metadata": {
        "colab_type": "text",
        "id": "FHom8o2KCt36"
      },
      "source": [
        "### 4.2 PCA"
      ]
    },
    {
      "cell_type": "code",
      "metadata": {
        "colab_type": "code",
        "id": "wT4cx5uGTjmj",
        "outputId": "7fabe0e1-b6c9-4fdd-8b5d-402799e41236",
        "colab": {
          "base_uri": "https://localhost:8080/",
          "height": 1566
        }
      },
      "source": [
        "\n",
        "\n",
        "import numpy as np\n",
        "import matplotlib.pyplot as plt\n",
        "import pandas as pd\n",
        "from pyspark.ml.feature import PCA as PCAml\n",
        "from pyspark.ml.linalg import Vectors \n",
        "from pyspark.sql.functions import split,udf, col\n",
        "from pyspark.sql.types import ArrayType, DoubleType\n",
        "\n",
        "\n",
        "pca11_values= PCAml(k=15, inputCol=\"features\", outputCol=\"pcavalues_output\")\n",
        "modelvalues_12 = pca11_values.fit(scaledData)\n",
        "transformed_2 = modelvalues_12.transform(scaledData)\n",
        "sum(modelvalues_12.explainedVariance)\n",
        "transformed_2.printSchema()\n",
        "\n",
        "output=transformed_2.select('pcavalues_output')\n",
        "\n",
        "def to_array(col):\n",
        "    def to_array_(v):\n",
        "        return v.toArray().tolist()\n",
        "    return udf(to_array_, ArrayType(DoubleType()))(col)\n",
        "\n",
        "df5=(output\n",
        "    .withColumn(\"pc\", to_array(col(\"pcavalues_output\")))\n",
        "    .select([col(\"pc\")[i] for i in range(2)]))\n",
        "df5.show()\n",
        "\n",
        "newdf11_values = df5.toDF(\"comp1\", \"comp2\")\n",
        "newdf11_values.printSchema()\n",
        "pd_df=newdf11_values.toPandas()\n",
        "pd_df.plot.scatter(x='comp1',y='comp2',c='DarkBlue')\n",
        "\n",
        "output_2=transformed_2.select('age', 'job', 'marital','education', 'default', 'balance', 'housing', 'loan', 'campaign', 'pdays','previous', 'poutcome','deposit','pcavalues_output')\n",
        "output_2.show()"
      ],
      "execution_count": 0,
      "outputs": [
        {
          "output_type": "stream",
          "text": [
            "root\n",
            " |-- label: double (nullable = false)\n",
            " |-- features: vector (nullable = true)\n",
            " |-- age: integer (nullable = true)\n",
            " |-- job: string (nullable = true)\n",
            " |-- marital: string (nullable = true)\n",
            " |-- education: string (nullable = true)\n",
            " |-- default: string (nullable = true)\n",
            " |-- balance: integer (nullable = true)\n",
            " |-- housing: string (nullable = true)\n",
            " |-- loan: string (nullable = true)\n",
            " |-- campaign: integer (nullable = true)\n",
            " |-- pdays: integer (nullable = true)\n",
            " |-- previous: integer (nullable = true)\n",
            " |-- poutcome: string (nullable = true)\n",
            " |-- deposit: string (nullable = true)\n",
            " |-- pcavalues_output: vector (nullable = true)\n",
            "\n",
            "+--------------------+-------------------+\n",
            "|               pc[0]|              pc[1]|\n",
            "+--------------------+-------------------+\n",
            "|  0.9636424850516068| 0.3313811478935345|\n",
            "|  0.8373410183626885| 0.3880024159205323|\n",
            "|-0.10845002652578276| 0.6564023408615134|\n",
            "|  -0.479560942670008| 1.1082617061107987|\n",
            "|  0.9576794865061756| 0.2714643678687506|\n",
            "|  0.7879027918969023| 0.5145147352059565|\n",
            "|  0.5124304692668866|-0.1917648708243116|\n",
            "| -0.7369547765884317| 1.0356901001261056|\n",
            "|-0.10282606527163515|  0.671822806010155|\n",
            "|  1.0661514594145962| 0.3285042864447201|\n",
            "|-0.32474294634018674| 0.8134787300694735|\n",
            "| -0.2109752165189983| 0.7625432021333773|\n",
            "|  0.9643915702012056| 0.3276715407315949|\n",
            "|  0.8970032005901719| 0.3514814197107741|\n",
            "| 0.47244006359864477| 0.6034483574148226|\n",
            "|  0.7840860892766188|  0.421458958932977|\n",
            "| -0.7640855001185652|  1.117508731487764|\n",
            "|  0.5078194714105165| 0.5364599694359978|\n",
            "|   1.020982108328857|0.36510796039610344|\n",
            "| -0.6823665987365033|-0.5902523648089859|\n",
            "+--------------------+-------------------+\n",
            "only showing top 20 rows\n",
            "\n",
            "root\n",
            " |-- comp1: double (nullable = true)\n",
            " |-- comp2: double (nullable = true)\n",
            "\n",
            "+---+------------+--------+---------+-------+-------+-------+----+--------+-----+--------+--------+-------+--------------------+\n",
            "|age|         job| marital|education|default|balance|housing|loan|campaign|pdays|previous|poutcome|deposit|    pcavalues_output|\n",
            "+---+------------+--------+---------+-------+-------+-------+----+--------+-----+--------+--------+-------+--------------------+\n",
            "| 33|    services| married|secondary|     no|   3444|    yes|  no|       1|   91|       4| failure|    yes|[0.96364248505160...|\n",
            "| 56|  technician| married|secondary|     no|    589|    yes|  no|       1|  147|       2| success|    yes|[0.83734101836268...|\n",
            "| 34|      admin.| married| tertiary|     no|    899|    yes|  no|       1|  170|       3| failure|    yes|[-0.1084500265257...|\n",
            "| 53|     retired| married| tertiary|     no|   2269|     no|  no|       2|  150|       1| success|    yes|[-0.4795609426700...|\n",
            "| 37|  technician| married|secondary|     no|   5115|    yes|  no|       2|  171|       4| failure|    yes|[0.95767948650617...|\n",
            "| 45|entrepreneur| married|secondary|     no|    781|     no| yes|       2|  126|       2| failure|    yes|[0.78790279189690...|\n",
            "| 46|  unemployed|divorced|secondary|     no|   3354|    yes|  no|       1|  174|       1| success|    yes|[0.51243046926688...|\n",
            "| 40|  management| married| tertiary|     no|   3352|    yes|  no|       2|   27|       1| success|    yes|[-0.7369547765884...|\n",
            "| 32|  technician| married| tertiary|     no|   4654|    yes| yes|       1|  128|       2| failure|    yes|[-0.1028260652716...|\n",
            "| 30| blue-collar| married|secondary|     no|    501|    yes| yes|       1|  177|       1| failure|    yes|[1.06615145941459...|\n",
            "| 46|  technician| married| tertiary|     no|      0|     no|  no|       1|  167|       1| failure|    yes|[-0.3247429463401...|\n",
            "| 38|entrepreneur| married| tertiary|     no|   1110|    yes|  no|       2|  183|       2| failure|    yes|[-0.2109752165189...|\n",
            "| 32|    services| married|secondary|     no|    983|    yes|  no|       2|  133|       1| failure|    yes|[0.96439157020120...|\n",
            "| 31|  unemployed| married|secondary|     no|    314|    yes|  no|       3|  178|       7| failure|    yes|[0.89700320059017...|\n",
            "| 50| blue-collar| married|  primary|     no|  12519|    yes|  no|       3|   34|       1| failure|    yes|[0.47244006359864...|\n",
            "| 47|  technician| married|secondary|     no|      0|     no|  no|       1|   10|       1| failure|    yes|[0.78408608927661...|\n",
            "| 59|  management| married| tertiary|     no|   7049|     no|  no|       1|  163|       2| failure|    yes|[-0.7640855001185...|\n",
            "| 31|  management| married|secondary|     no|   8629|    yes|  no|       1|  184|       2| failure|    yes|[0.50781947141051...|\n",
            "| 53| blue-collar| married|secondary|     no|   1777|    yes|  no|       5|  154|       1| failure|    yes|[1.02098210832885...|\n",
            "| 40|  technician|  single| tertiary|     no|   1646|    yes|  no|       1|  242|       2| failure|    yes|[-0.6823665987365...|\n",
            "+---+------------+--------+---------+-------+-------+-------+----+--------+-----+--------+--------+-------+--------------------+\n",
            "only showing top 20 rows\n",
            "\n"
          ],
          "name": "stdout"
        },
        {
          "output_type": "display_data",
          "data": {
            "image/png": "[encoded data removed]",
            "text/plain": [
              "<Figure size 432x288 with 1 Axes>"
            ]
          },
          "metadata": {
            "tags": []
          }
        }
      ]
    },
    {
      "cell_type": "code",
      "metadata": {
        "id": "ybEANlYp76i2",
        "colab_type": "code",
        "colab": {}
      },
      "source": [
        ""
      ],
      "execution_count": 0,
      "outputs": []
    },
    {
      "cell_type": "markdown",
      "metadata": {
        "colab_type": "text",
        "id": "ulp_uILXCv4Z"
      },
      "source": [
        "## 5. Supervised learning"
      ]
    },
    {
      "cell_type": "code",
      "metadata": {
        "colab_type": "code",
        "id": "0O7tszcPfnHN",
        "outputId": "50da065a-3d6f-465c-d4e1-195128e28eeb",
        "colab": {
          "base_uri": "https://localhost:8080/",
          "height": 52
        }
      },
      "source": [
        "train, test = scaledData.randomSplit([0.7, 0.3], seed = 742)\n",
        "print(\"Training Dataset Count: \" + str(train.count()))\n",
        "print(\"Test Dataset Count: \" + str(test.count()))"
      ],
      "execution_count": 0,
      "outputs": [
        {
          "output_type": "stream",
          "text": [
            "Training Dataset Count: 1535\n",
            "Test Dataset Count: 646\n"
          ],
          "name": "stdout"
        }
      ]
    },
    {
      "cell_type": "markdown",
      "metadata": {
        "colab_type": "text",
        "id": "2SsHdh7YC-eN"
      },
      "source": [
        "### 5.1 LogisticRegression"
      ]
    },
    {
      "cell_type": "code",
      "metadata": {
        "colab_type": "code",
        "id": "Vqo_ywFQYxSj",
        "colab": {}
      },
      "source": [
        "# Logistic Regression\n",
        "\n",
        "from pyspark.ml.classification import LogisticRegression\n",
        "from pyspark.ml.evaluation import MulticlassClassificationEvaluator\n",
        "from pyspark.ml.evaluation import BinaryClassificationEvaluator \n",
        "\n",
        "log_reg = LogisticRegression(featuresCol = 'features', labelCol = 'label', maxIter=10)\n",
        "lr_Model11 = log_reg.fit(train)"
      ],
      "execution_count": 0,
      "outputs": []
    },
    {
      "cell_type": "code",
      "metadata": {
        "colab_type": "code",
        "id": "hANwFUzhgG83",
        "outputId": "79b8af55-d337-4050-d5ec-fe923fe11b2f",
        "colab": {
          "base_uri": "https://localhost:8080/",
          "height": 1284
        }
      },
      "source": [
        "#calculate the coeffecients \n",
        "import matplotlib.pyplot as plt\n",
        "import numpy as np\n",
        "import json\n",
        "from pyspark.sql.column import Column\n",
        "\n",
        "beta = np.sort(lrModel.coefficients)\n",
        "\n",
        "plt.plot(beta)\n",
        "plt.ylabel('Beta Coefficients')\n",
        "plt.show()\n",
        "\n",
        "trainingSummary = lrModel.summary\n",
        "\n",
        "roc = trainingSummary.roc.toPandas()\n",
        "plt.plot(roc['FPR'],roc['TPR'])\n",
        "plt.ylabel('False Positive Rate')\n",
        "plt.xlabel('True Positive Rate')\n",
        "plt.title('ROC Curve')\n",
        "plt.show()\n",
        "\n",
        "pr = trainingSummary.pr.toPandas()\n",
        "plt.plot(pr['recall'],pr['precision'])\n",
        "plt.ylabel('Precision')\n",
        "plt.xlabel('Recall')\n",
        "plt.show()\n",
        "              \n",
        "predictions_11 = lrModel.transform(test).withColumn(\"features\", col(\"features\").alias(\"\", metadata=scaledMeta))\n",
        "\n",
        "print(predictions_11.schema['features'].json())\n",
        "print(predictions_11.schema['features'].metadata)\n",
        "\n",
        "coeff=lrModel.coefficientMatrix\n",
        "print(\"Cowfficients Matrix:\",coeff)\n",
        "print(\"Model Intercept:\",lrModel.intercept)\n",
        "predictions.select('age', 'job', 'label', 'rawPrediction', 'prediction', 'probability').show(10)\n",
        "\n",
        "from pyspark.ml.evaluation import BinaryClassificationEvaluator\n",
        "evaluator = BinaryClassificationEvaluator()\n",
        "print('Test Area Under ROC', evaluator.evaluate(predictions))\n",
        "print('Training set areaUnderROC: ' + str(trainingSummary.areaUnderROC))"
      ],
      "execution_count": 0,
      "outputs": [
        {
          "output_type": "display_data",
          "data": {
            "image/png": "[encoded data removed]",
            "text/plain": [
              "<Figure size 432x288 with 1 Axes>"
            ]
          },
          "metadata": {
            "tags": []
          }
        },
        {
          "output_type": "display_data",
          "data": {
            "image/png": "[encoded data removed]",
            "text/plain": [
              "<Figure size 432x288 with 1 Axes>"
            ]
          },
          "metadata": {
            "tags": []
          }
        },
        {
          "output_type": "display_data",
          "data": {
            "image/png": "[encoded data removed]",
            "text/plain": [
              "<Figure size 432x288 with 1 Axes>"
            ]
          },
          "metadata": {
            "tags": []
          }
        },
        {
          "output_type": "stream",
          "text": [
            "{\"metadata\":{\"ml_attr\":{\"attrs\":{\"binary\":[{\"idx\":0,\"name\":\"jobclassVec_management\"},{\"idx\":1,\"name\":\"jobclassVec_technician\"},{\"idx\":2,\"name\":\"jobclassVec_admin.\"},{\"idx\":3,\"name\":\"jobclassVec_blue-collar\"},{\"idx\":4,\"name\":\"jobclassVec_retired\"},{\"idx\":5,\"name\":\"jobclassVec_services\"},{\"idx\":6,\"name\":\"jobclassVec_student\"},{\"idx\":7,\"name\":\"jobclassVec_unemployed\"},{\"idx\":8,\"name\":\"jobclassVec_self-employed\"},{\"idx\":9,\"name\":\"jobclassVec_entrepreneur\"},{\"idx\":10,\"name\":\"maritalclassVec_married\"},{\"idx\":11,\"name\":\"maritalclassVec_single\"},{\"idx\":12,\"name\":\"educationclassVec_secondary\"},{\"idx\":13,\"name\":\"educationclassVec_tertiary\"},{\"idx\":14,\"name\":\"defaultclassVec_no\"},{\"idx\":15,\"name\":\"housingclassVec_no\"},{\"idx\":16,\"name\":\"loanclassVec_no\"},{\"idx\":17,\"name\":\"poutcomeclassVec_failure\"}],\"numeric\":[{\"idx\":18,\"name\":\"age\"},{\"idx\":19,\"name\":\"balance\"},{\"idx\":20,\"name\":\"campaign\"},{\"idx\":21,\"name\":\"pdays\"},{\"idx\":22,\"name\":\"previous\"}]},\"num_attrs\":23}},\"name\":\"features\",\"nullable\":true,\"type\":{\"class\":\"org.apache.spark.ml.linalg.VectorUDT\",\"pyClass\":\"pyspark.ml.linalg.VectorUDT\",\"sqlType\":{\"fields\":[{\"metadata\":{},\"name\":\"type\",\"nullable\":false,\"type\":\"byte\"},{\"metadata\":{},\"name\":\"size\",\"nullable\":true,\"type\":\"integer\"},{\"metadata\":{},\"name\":\"indices\",\"nullable\":true,\"type\":{\"containsNull\":false,\"elementType\":\"integer\",\"type\":\"array\"}},{\"metadata\":{},\"name\":\"values\",\"nullable\":true,\"type\":{\"containsNull\":false,\"elementType\":\"double\",\"type\":\"array\"}}],\"type\":\"struct\"},\"type\":\"udt\"}}\n",
            "{'ml_attr': {'attrs': {'numeric': [{'idx': 18, 'name': 'age'}, {'idx': 19, 'name': 'balance'}, {'idx': 20, 'name': 'campaign'}, {'idx': 21, 'name': 'pdays'}, {'idx': 22, 'name': 'previous'}], 'binary': [{'idx': 0, 'name': 'jobclassVec_management'}, {'idx': 1, 'name': 'jobclassVec_technician'}, {'idx': 2, 'name': 'jobclassVec_admin.'}, {'idx': 3, 'name': 'jobclassVec_blue-collar'}, {'idx': 4, 'name': 'jobclassVec_retired'}, {'idx': 5, 'name': 'jobclassVec_services'}, {'idx': 6, 'name': 'jobclassVec_student'}, {'idx': 7, 'name': 'jobclassVec_unemployed'}, {'idx': 8, 'name': 'jobclassVec_self-employed'}, {'idx': 9, 'name': 'jobclassVec_entrepreneur'}, {'idx': 10, 'name': 'maritalclassVec_married'}, {'idx': 11, 'name': 'maritalclassVec_single'}, {'idx': 12, 'name': 'educationclassVec_secondary'}, {'idx': 13, 'name': 'educationclassVec_tertiary'}, {'idx': 14, 'name': 'defaultclassVec_no'}, {'idx': 15, 'name': 'housingclassVec_no'}, {'idx': 16, 'name': 'loanclassVec_no'}, {'idx': 17, 'name': 'poutcomeclassVec_failure'}]}, 'num_attrs': 23}}\n",
            "Cowfficients Matrix: DenseMatrix([[ 0.05224049,  0.14415437,  0.08008929,  0.31535416,  0.03234789,\n",
            "              -0.3305    , -0.77832885, -0.80792014,  0.01041714,  0.58818874,\n",
            "              -0.07409092,  0.01718812, -0.0167406 , -0.30759447, -0.37439257,\n",
            "              -0.81350279, -0.39239058,  2.15024493, -0.34625742, -3.03874351,\n",
            "               2.58497451, -0.57042285, -1.72394409]])\n",
            "Model Intercept: -0.7670955923678652\n",
            "+---+------------+-----+--------------------+----------+--------------------+\n",
            "|age|         job|label|       rawPrediction|prediction|         probability|\n",
            "+---+------------+-----+--------------------+----------+--------------------+\n",
            "| 71|   housemaid|  0.0|[2.51793449587892...|       0.0|[0.92538957000280...|\n",
            "| 38|   housemaid|  0.0|[2.12864983614260...|       0.0|[0.89365676455911...|\n",
            "| 48|   housemaid|  0.0|[0.24945058415642...|       0.0|[0.56204126630478...|\n",
            "| 46|   housemaid|  0.0|[0.70542303194902...|       0.0|[0.66938902956748...|\n",
            "| 61|   housemaid|  0.0|[0.47900068318358...|       0.0|[0.61751187290502...|\n",
            "| 80|   housemaid|  0.0|[0.73833322981785...|       0.0|[0.67663127201897...|\n",
            "| 62|   housemaid|  0.0|[2.92532019568998...|       0.0|[0.94908400496669...|\n",
            "| 34|   housemaid|  0.0|[0.78009582225453...|       0.0|[0.68570076546052...|\n",
            "| 31|   housemaid|  0.0|[-0.0901395966225...|       1.0|[0.47748034673742...|\n",
            "| 38|entrepreneur|  0.0|[-0.9205058217629...|       1.0|[0.28485484083993...|\n",
            "+---+------------+-----+--------------------+----------+--------------------+\n",
            "only showing top 10 rows\n",
            "\n",
            "Test Area Under ROC 0.7981263528138494\n",
            "Training set areaUnderROC: 0.8196862940469414\n"
          ],
          "name": "stdout"
        }
      ]
    },
    {
      "cell_type": "markdown",
      "metadata": {
        "colab_type": "text",
        "id": "evM5eiJoDHw2"
      },
      "source": [
        "### 5.2 Decision tree"
      ]
    },
    {
      "cell_type": "code",
      "metadata": {
        "colab_type": "code",
        "id": "He4mlHb7hBoY",
        "outputId": "b4802a28-75f5-4948-aa81-c16e1d216e9f",
        "colab": {
          "base_uri": "https://localhost:8080/",
          "height": 347
        }
      },
      "source": [
        "# Decision tree\n",
        "\n",
        "from pyspark.ml.classification import DecisionTreeClassifier \n",
        "\n",
        "train, test = df4.randomSplit([0.7, 0.3], seed = 742)\n",
        "print(\"Training Records: \" + str(train.count()))\n",
        "print(\"Test Records: \" + str(test.count()))\n",
        "\n",
        "deci_tree = DecisionTreeClassifier(featuresCol = 'features1', labelCol = 'label', maxDepth = 3)\n",
        "dt_Model11 = deci_tree.fit(train)\n",
        "predictions_11 = dt_Model11.transform(test)\n",
        "predictions_11.select('age', 'job', 'label', 'rawPrediction', 'prediction', 'probability').show(10)\n",
        "\n",
        "evaluator_11 = BinaryClassificationEvaluator()\n",
        "print(\"Test Area Under ROC: \" + str(evaluator_11.evaluate(predictions, {evaluator_11.metricName: \"areaUnderROC\"})))"
      ],
      "execution_count": 0,
      "outputs": [
        {
          "output_type": "stream",
          "text": [
            "Training Records: 1535\n",
            "Test Records: 646\n",
            "+---+----------+-----+-------------+----------+--------------------+\n",
            "|age|       job|label|rawPrediction|prediction|         probability|\n",
            "+---+----------+-----+-------------+----------+--------------------+\n",
            "| 29|management|  0.0|[217.0,119.0]|       0.0|[0.64583333333333...|\n",
            "| 52|management|  0.0|[217.0,119.0]|       0.0|[0.64583333333333...|\n",
            "| 48|management|  0.0| [631.0,54.0]|       0.0|[0.92116788321167...|\n",
            "| 33|management|  0.0|[177.0,300.0]|       1.0|[0.37106918238993...|\n",
            "| 48|management|  0.0|[177.0,300.0]|       1.0|[0.37106918238993...|\n",
            "| 49|management|  0.0|[177.0,300.0]|       1.0|[0.37106918238993...|\n",
            "| 31|management|  0.0|[217.0,119.0]|       0.0|[0.64583333333333...|\n",
            "| 32|management|  0.0|[217.0,119.0]|       0.0|[0.64583333333333...|\n",
            "| 33|management|  0.0|[217.0,119.0]|       0.0|[0.64583333333333...|\n",
            "| 34|management|  0.0|[217.0,119.0]|       0.0|[0.64583333333333...|\n",
            "+---+----------+-----+-------------+----------+--------------------+\n",
            "only showing top 10 rows\n",
            "\n",
            "Test Area Under ROC: 0.7829128336940836\n"
          ],
          "name": "stdout"
        }
      ]
    },
    {
      "cell_type": "markdown",
      "metadata": {
        "colab_type": "text",
        "id": "CaE-Z_IlDKXF"
      },
      "source": [
        "### 5.3 NaiveBayes"
      ]
    },
    {
      "cell_type": "code",
      "metadata": {
        "colab_type": "code",
        "id": "v2XL6I0t7irt",
        "outputId": "3075b6dd-d096-4fd8-d917-3eee5617800a",
        "colab": {
          "base_uri": "https://localhost:8080/",
          "height": 503
        }
      },
      "source": [
        "# NaiveBayes\n",
        "\n",
        "from pyspark.ml.classification import NaiveBayes\n",
        "from pyspark.ml.evaluation import MulticlassClassificationEvaluator\n",
        "\n",
        "train, test = scaledData.randomSplit([0.7, 0.3], seed = 742)\n",
        "print(\"Training Records Count: \" + str(train.count()))\n",
        "print(\"Test Records Count: \" + str(test.count()))\n",
        "\n",
        "nb_11 = NaiveBayes(smoothing=0.1)\n",
        "model = nb_11.fit(train)\n",
        "\n",
        "predictions_11 = model.transform(test)\n",
        "preds_12=predictions_11.filter(predictions_11['prediction'] == 0) \\\n",
        "    .select('age', 'job','probability','label','prediction') \\\n",
        "    .orderBy(\"probability\", ascending=False) \\\n",
        "    .show(n = 20, truncate = 30)"
      ],
      "execution_count": 0,
      "outputs": [
        {
          "output_type": "stream",
          "text": [
            "Training Records Count: 1535\n",
            "Test Records Count: 646\n",
            "+---+----------+------------------------------+-----+----------+\n",
            "|age|       job|                   probability|label|prediction|\n",
            "+---+----------+------------------------------+-----+----------+\n",
            "| 27|   student|[0.962567968803073,0.037432...|  0.0|       0.0|\n",
            "| 24|   student|[0.9617723073800454,0.03822...|  0.0|       0.0|\n",
            "| 27|   student|[0.961569329823581,0.038430...|  0.0|       0.0|\n",
            "| 35|unemployed|[0.9606604907029234,0.03933...|  0.0|       0.0|\n",
            "| 34|unemployed|[0.9598573267233367,0.04014...|  0.0|       0.0|\n",
            "| 41|unemployed|[0.9596077433265744,0.04039...|  0.0|       0.0|\n",
            "| 30|unemployed|[0.9586331914359673,0.04136...|  0.0|       0.0|\n",
            "| 42|unemployed|[0.9579621298305696,0.04203...|  0.0|       0.0|\n",
            "| 31|unemployed|[0.9578452260629001,0.04215...|  0.0|       0.0|\n",
            "| 30|   student|[0.9558167277578643,0.04418...|  0.0|       0.0|\n",
            "| 68|   retired|[0.9444731878100334,0.05552...|  0.0|       0.0|\n",
            "| 76|   retired|[0.9438216533353523,0.05617...|  1.0|       0.0|\n",
            "| 24|   student|[0.9427693063899525,0.05723...|  0.0|       0.0|\n",
            "| 76|   retired|[0.9427188735615253,0.05728...|  0.0|       0.0|\n",
            "| 59|   retired|[0.9422101324865658,0.05778...|  0.0|       0.0|\n",
            "| 63|   retired|[0.9420439251465403,0.05795...|  0.0|       0.0|\n",
            "| 71|   retired|[0.9418605725791808,0.05813...|  0.0|       0.0|\n",
            "| 53|   retired|[0.9392847726883586,0.06071...|  0.0|       0.0|\n",
            "| 72|   retired|[0.9391426222133396,0.06085...|  0.0|       0.0|\n",
            "| 23|   student|[0.9390913915337217,0.06090...|  0.0|       0.0|\n",
            "+---+----------+------------------------------+-----+----------+\n",
            "only showing top 20 rows\n",
            "\n"
          ],
          "name": "stdout"
        }
      ]
    },
    {
      "cell_type": "code",
      "metadata": {
        "id": "KacHQZhsUPeM",
        "colab_type": "code",
        "outputId": "69868e60-0255-483b-8f45-8842f8ffcff4",
        "colab": {
          "base_uri": "https://localhost:8080/",
          "height": 35
        }
      },
      "source": [
        "evaluator = MulticlassClassificationEvaluator(predictionCol=\"prediction\")\n",
        "evaluator.evaluate(predictions)"
      ],
      "execution_count": 0,
      "outputs": [
        {
          "output_type": "execute_result",
          "data": {
            "text/plain": [
              "0.7307822484002955"
            ]
          },
          "metadata": {
            "tags": []
          },
          "execution_count": 20
        }
      ]
    }
  ]
}